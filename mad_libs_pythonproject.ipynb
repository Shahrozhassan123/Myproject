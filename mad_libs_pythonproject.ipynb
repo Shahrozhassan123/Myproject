{
  "nbformat": 4,
  "nbformat_minor": 0,
  "metadata": {
    "colab": {
      "provenance": [],
      "toc_visible": true,
      "authorship_tag": "ABX9TyOGbjd0lgQeEjcLuJualSjh",
      "include_colab_link": true
    },
    "kernelspec": {
      "name": "python3",
      "display_name": "Python 3"
    },
    "language_info": {
      "name": "python"
    }
  },
  "cells": [
    {
      "cell_type": "markdown",
      "metadata": {
        "id": "view-in-github",
        "colab_type": "text"
      },
      "source": [
        "<a href=\"https://colab.research.google.com/github/Shahrozhassan123/Myproject/blob/main/mad_libs_pythonproject.ipynb\" target=\"_parent\"><img src=\"https://colab.research.google.com/assets/colab-badge.svg\" alt=\"Open In Colab\"/></a>"
      ]
    },
    {
      "cell_type": "markdown",
      "source": [],
      "metadata": {
        "id": "RkTtgvtACT6D"
      }
    },
    {
      "cell_type": "code",
      "source": [
        " #user se input lia hai\n",
        "name  = input(\"Enter the boy name: \")\n",
        "programming_language =input(\"Enter a programming language {python,html}: \")\n",
        "mentor = input(\"Enter a mentor name: \")\n",
        "\n",
        "#create story\n",
        "print(\"\\n here is my story based on mad libs game!\")\n",
        "print(f\"Once upon a time there was a boy named {name},\")\n",
        "print(f\"{name} was a very innocent boy\")\n",
        "print(f\"One day, he decided to learn {programming_language} language at governor house! \")\n",
        "print(f\"ABC {name} found a good mentor name as a {mentor} who was an expert in {programming_language},\")\n",
        "\n"
      ],
      "metadata": {
        "colab": {
          "base_uri": "https://localhost:8080/"
        },
        "id": "y7oGrOrsCUsr",
        "outputId": "85657a71-f174-47d6-8d6c-67a544921170"
      },
      "execution_count": null,
      "outputs": [
        {
          "output_type": "stream",
          "name": "stdout",
          "text": [
            "Enter the boy name: shahroz\n",
            "Enter a programming language {python,html}: html\n",
            "Enter a mentor name: sir zia\n",
            "\n",
            " here is my story based on mad libs game!\n",
            "Once upon a time there was a boy named shahroz,\n",
            "shahroz was a very innocent boy\n",
            "One day, he decided to learn html language at governor house! \n",
            "ABC shahroz found a good mentor name as a sir zia who was an expert in html,\n"
          ]
        }
      ]
    }
  ]
}