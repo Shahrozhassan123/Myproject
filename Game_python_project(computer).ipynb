{
  "nbformat": 4,
  "nbformat_minor": 0,
  "metadata": {
    "colab": {
      "provenance": [],
      "authorship_tag": "ABX9TyNk2S5l5auZQHdyWAQBAFM5",
      "include_colab_link": true
    },
    "kernelspec": {
      "name": "python3",
      "display_name": "Python 3"
    },
    "language_info": {
      "name": "python"
    }
  },
  "cells": [
    {
      "cell_type": "markdown",
      "metadata": {
        "id": "view-in-github",
        "colab_type": "text"
      },
      "source": [
        "<a href=\"https://colab.research.google.com/github/Shahrozhassan123/Myproject/blob/main/Game_python_project(computer).ipynb\" target=\"_parent\"><img src=\"https://colab.research.google.com/assets/colab-badge.svg\" alt=\"Open In Colab\"/></a>"
      ]
    },
    {
      "cell_type": "code",
      "execution_count": null,
      "metadata": {
        "id": "L-jwYV80kdBb"
      },
      "outputs": [],
      "source": []
    },
    {
      "cell_type": "code",
      "metadata": {
        "id": "h4aGXzrklhM1",
        "colab": {
          "base_uri": "https://localhost:8080/"
        },
        "outputId": "293ad225-64aa-4cfc-ab19-9c236d099439"
      },
      "source": [
        "import random\n",
        "\n",
        "secret = random.randint(1,20)\n",
        "\n",
        "guess = 0\n",
        "attempts = 0\n",
        "\n",
        "print (\"Guess the secret number (1 to 20)\")\n",
        "print (\"=================================\")\n",
        "print (\"\")\n",
        "\n",
        "while guess != secret:\n",
        "    attempts += 1\n",
        "\n",
        "    guess = input(\"Guess number: \")\n",
        "    guess = int(guess)\n",
        "\n",
        "    if (guess > secret):\n",
        "        print (\"Number is too high.\")\n",
        "    elif (guess < secret):\n",
        "        print (\"Number is too low.\")\n",
        "\n",
        "\n",
        "print (\"Congratulations, you guessed right !!\")\n",
        "print (\"Attempts used: \", attempts)\n"
      ],
      "execution_count": null,
      "outputs": [
        {
          "output_type": "stream",
          "name": "stdout",
          "text": [
            "Guess the secret number (1 to 20)\n",
            "=================================\n",
            "\n",
            "Guess number: 3\n",
            "Number is too low.\n",
            "Guess number: 4\n",
            "Number is too low.\n",
            "Guess number: 5\n",
            "Number is too low.\n",
            "Guess number: 10\n",
            "Number is too low.\n",
            "Guess number: 30\n",
            "Number is too high.\n",
            "Guess number: 19\n",
            "Number is too high.\n",
            "Guess number: 15\n",
            "Number is too high.\n",
            "Guess number: 13\n",
            "Number is too high.\n",
            "Guess number: 11\n",
            "Number is too low.\n",
            "Guess number: 12\n",
            "Congratulations, you guessed right !!\n",
            "Attempts used:  10\n"
          ]
        }
      ]
    }
  ]
}